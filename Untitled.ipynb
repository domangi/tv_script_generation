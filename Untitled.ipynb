{
 "cells": [
  {
   "cell_type": "code",
   "execution_count": 1,
   "metadata": {
    "collapsed": true
   },
   "outputs": [],
   "source": [
    "import numpy as np"
   ]
  },
  {
   "cell_type": "code",
   "execution_count": 91,
   "metadata": {
    "collapsed": true
   },
   "outputs": [],
   "source": [
    "x = np.array([1, 2, 3, 4, 5, 6, 7, 8, 9, 10, 11, 12, 13, 14, 15, 16, 17, 18, 19, 20])\n",
    "seq_length = 3\n",
    "batch_size = 3"
   ]
  },
  {
   "cell_type": "code",
   "execution_count": 92,
   "metadata": {
    "collapsed": true
   },
   "outputs": [],
   "source": [
    "batch_len = len(x) // batch_size\n",
    "x = x[:batch_len * batch_size]"
   ]
  },
  {
   "cell_type": "code",
   "execution_count": 93,
   "metadata": {
    "collapsed": false
   },
   "outputs": [],
   "source": [
    "y = np.zeros(len(x), dtype=int)\n",
    "y[:-1], y[-1:] = x[1:] , x[0:1]\n",
    "#y[:-1]= x[1:]\n",
    "y = list(y)"
   ]
  },
  {
   "cell_type": "code",
   "execution_count": 94,
   "metadata": {
    "collapsed": false
   },
   "outputs": [],
   "source": [
    "x = list(x)"
   ]
  },
  {
   "cell_type": "code",
   "execution_count": 95,
   "metadata": {
    "collapsed": false
   },
   "outputs": [],
   "source": [
    "batches = []\n",
    "for i in range(0, len(x), batch_len):\n",
    "    batch_x = x[i:i+batch_len]\n",
    "    batch_y = y[i:i+batch_len]\n",
    "    batch_x = [batch_x[ii:ii+seq_length] for ii in range(0,batch_len, seq_length) if (ii+seq_length) < batch_len]\n",
    "    batch_y = [batch_y[ii:ii+seq_length] for ii in range(0,batch_len, seq_length) if (ii+seq_length) < batch_len]\n",
    "    batches.append([batch_x, batch_y])\n"
   ]
  },
  {
   "cell_type": "code",
   "execution_count": 96,
   "metadata": {
    "collapsed": false
   },
   "outputs": [
    {
     "data": {
      "text/plain": [
       "(3, 2, 1, 3)"
      ]
     },
     "execution_count": 96,
     "metadata": {},
     "output_type": "execute_result"
    }
   ],
   "source": [
    "np.array(batches).shape"
   ]
  },
  {
   "cell_type": "code",
   "execution_count": 97,
   "metadata": {
    "collapsed": false
   },
   "outputs": [
    {
     "data": {
      "text/plain": [
       "[[[[1, 2, 3]], [[2, 3, 4]]],\n",
       " [[[7, 8, 9]], [[8, 9, 10]]],\n",
       " [[[13, 14, 15]], [[14, 15, 16]]]]"
      ]
     },
     "execution_count": 97,
     "metadata": {},
     "output_type": "execute_result"
    }
   ],
   "source": [
    "batches"
   ]
  },
  {
   "cell_type": "code",
   "execution_count": 357,
   "metadata": {
    "collapsed": false
   },
   "outputs": [],
   "source": [
    "def get_batches(int_text, batch_size, seq_length):\n",
    "    \"\"\"\n",
    "    Return batches of input and target\n",
    "    :param int_text: Text with the words replaced by their ids\n",
    "    :param batch_size: The size of batch\n",
    "    :param seq_length: The length of sequence\n",
    "    :return: Batches as a Numpy array\n",
    "    \"\"\"\n",
    "    batch_len = len(int_text) // batch_size\n",
    "    seq_per_batch = batch_len // seq_length\n",
    "    batch_len = seq_per_batch * seq_length\n",
    "    features = int_text[:(batch_len * batch_size)]\n",
    "    targets = np.zeros(len(features), dtype=int)\n",
    "    targets[:-1], targets[-1:] = features[1:] , features[0:1]\n",
    "    targets = list(targets)\n",
    "    features = list(features)\n",
    "    \n",
    "    batch_features_row = []\n",
    "    batch_targets_row = []\n",
    "    for i in range(0, len(features), batch_len):\n",
    "        batch_features_row.append(features[i:i+batch_len])\n",
    "        batch_targets_row.append(targets[i:i+batch_len])\n",
    "\n",
    "    batch_features_row = np.array(batch_features_row)\n",
    "    batch_targets_row = np.array(batch_targets_row)\n",
    "    batches = []\n",
    "    for i in range(0, batch_len, seq_length):\n",
    "        if (i+seq_length) <= batch_len:\n",
    "            batches.append([batch_features_row[ : , i : i+seq_length], batch_targets_row[ : , i : i+seq_length]])\n",
    "    \n",
    "    return np.array(batches)"
   ]
  },
  {
   "cell_type": "code",
   "execution_count": 358,
   "metadata": {
    "collapsed": false
   },
   "outputs": [
    {
     "name": "stdout",
     "output_type": "stream",
     "text": [
      "batch_len:  39\n",
      "batch_len2:  35\n"
     ]
    },
    {
     "data": {
      "text/plain": [
       "(7, 2, 128, 5)"
      ]
     },
     "execution_count": 358,
     "metadata": {},
     "output_type": "execute_result"
    }
   ],
   "source": [
    "test_batch_size = 128\n",
    "test_seq_length = 5\n",
    "test_int_text = list(range(1000*test_seq_length))\n",
    "batches = get_batches(test_int_text, test_batch_size, test_seq_length)\n",
    "batches.shape"
   ]
  },
  {
   "cell_type": "code",
   "execution_count": 360,
   "metadata": {
    "collapsed": false
   },
   "outputs": [
    {
     "name": "stdout",
     "output_type": "stream",
     "text": [
      "[0 1 2 3 4]\n",
      "[35 36 37 38 39]\n",
      "[70 71 72 73 74]\n",
      "[105 106 107 108 109]\n",
      "[140 141 142 143 144]\n",
      "[175 176 177 178 179]\n",
      "[210 211 212 213 214]\n",
      "[245 246 247 248 249]\n",
      "[280 281 282 283 284]\n",
      "[315 316 317 318 319]\n",
      "[350 351 352 353 354]\n",
      "[385 386 387 388 389]\n",
      "[420 421 422 423 424]\n",
      "[455 456 457 458 459]\n",
      "[490 491 492 493 494]\n",
      "[525 526 527 528 529]\n",
      "[560 561 562 563 564]\n",
      "[595 596 597 598 599]\n",
      "[630 631 632 633 634]\n",
      "[665 666 667 668 669]\n",
      "[700 701 702 703 704]\n",
      "[735 736 737 738 739]\n",
      "[770 771 772 773 774]\n",
      "[805 806 807 808 809]\n",
      "[840 841 842 843 844]\n",
      "[875 876 877 878 879]\n",
      "[910 911 912 913 914]\n",
      "[945 946 947 948 949]\n",
      "[980 981 982 983 984]\n",
      "[1015 1016 1017 1018 1019]\n",
      "[1050 1051 1052 1053 1054]\n",
      "[1085 1086 1087 1088 1089]\n",
      "[1120 1121 1122 1123 1124]\n",
      "[1155 1156 1157 1158 1159]\n",
      "[1190 1191 1192 1193 1194]\n",
      "[1225 1226 1227 1228 1229]\n",
      "[1260 1261 1262 1263 1264]\n",
      "[1295 1296 1297 1298 1299]\n",
      "[1330 1331 1332 1333 1334]\n",
      "[1365 1366 1367 1368 1369]\n",
      "[1400 1401 1402 1403 1404]\n",
      "[1435 1436 1437 1438 1439]\n",
      "[1470 1471 1472 1473 1474]\n",
      "[1505 1506 1507 1508 1509]\n",
      "[1540 1541 1542 1543 1544]\n",
      "[1575 1576 1577 1578 1579]\n",
      "[1610 1611 1612 1613 1614]\n",
      "[1645 1646 1647 1648 1649]\n",
      "[1680 1681 1682 1683 1684]\n",
      "[1715 1716 1717 1718 1719]\n",
      "[1750 1751 1752 1753 1754]\n",
      "[1785 1786 1787 1788 1789]\n",
      "[1820 1821 1822 1823 1824]\n",
      "[1855 1856 1857 1858 1859]\n",
      "[1890 1891 1892 1893 1894]\n",
      "[1925 1926 1927 1928 1929]\n",
      "[1960 1961 1962 1963 1964]\n",
      "[1995 1996 1997 1998 1999]\n",
      "[2030 2031 2032 2033 2034]\n",
      "[2065 2066 2067 2068 2069]\n",
      "[2100 2101 2102 2103 2104]\n",
      "[2135 2136 2137 2138 2139]\n",
      "[2170 2171 2172 2173 2174]\n",
      "[2205 2206 2207 2208 2209]\n",
      "[2240 2241 2242 2243 2244]\n",
      "[2275 2276 2277 2278 2279]\n",
      "[2310 2311 2312 2313 2314]\n",
      "[2345 2346 2347 2348 2349]\n",
      "[2380 2381 2382 2383 2384]\n",
      "[2415 2416 2417 2418 2419]\n",
      "[2450 2451 2452 2453 2454]\n",
      "[2485 2486 2487 2488 2489]\n",
      "[2520 2521 2522 2523 2524]\n",
      "[2555 2556 2557 2558 2559]\n",
      "[2590 2591 2592 2593 2594]\n",
      "[2625 2626 2627 2628 2629]\n",
      "[2660 2661 2662 2663 2664]\n",
      "[2695 2696 2697 2698 2699]\n",
      "[2730 2731 2732 2733 2734]\n",
      "[2765 2766 2767 2768 2769]\n",
      "[2800 2801 2802 2803 2804]\n",
      "[2835 2836 2837 2838 2839]\n",
      "[2870 2871 2872 2873 2874]\n",
      "[2905 2906 2907 2908 2909]\n",
      "[2940 2941 2942 2943 2944]\n",
      "[2975 2976 2977 2978 2979]\n",
      "[3010 3011 3012 3013 3014]\n",
      "[3045 3046 3047 3048 3049]\n",
      "[3080 3081 3082 3083 3084]\n",
      "[3115 3116 3117 3118 3119]\n",
      "[3150 3151 3152 3153 3154]\n",
      "[3185 3186 3187 3188 3189]\n",
      "[3220 3221 3222 3223 3224]\n",
      "[3255 3256 3257 3258 3259]\n",
      "[3290 3291 3292 3293 3294]\n",
      "[3325 3326 3327 3328 3329]\n",
      "[3360 3361 3362 3363 3364]\n",
      "[3395 3396 3397 3398 3399]\n",
      "[3430 3431 3432 3433 3434]\n",
      "[3465 3466 3467 3468 3469]\n",
      "[3500 3501 3502 3503 3504]\n",
      "[3535 3536 3537 3538 3539]\n",
      "[3570 3571 3572 3573 3574]\n",
      "[3605 3606 3607 3608 3609]\n",
      "[3640 3641 3642 3643 3644]\n",
      "[3675 3676 3677 3678 3679]\n",
      "[3710 3711 3712 3713 3714]\n",
      "[3745 3746 3747 3748 3749]\n",
      "[3780 3781 3782 3783 3784]\n",
      "[3815 3816 3817 3818 3819]\n",
      "[3850 3851 3852 3853 3854]\n",
      "[3885 3886 3887 3888 3889]\n",
      "[3920 3921 3922 3923 3924]\n",
      "[3955 3956 3957 3958 3959]\n",
      "[3990 3991 3992 3993 3994]\n",
      "[4025 4026 4027 4028 4029]\n",
      "[4060 4061 4062 4063 4064]\n",
      "[4095 4096 4097 4098 4099]\n",
      "[4130 4131 4132 4133 4134]\n",
      "[4165 4166 4167 4168 4169]\n",
      "[4200 4201 4202 4203 4204]\n",
      "[4235 4236 4237 4238 4239]\n",
      "[4270 4271 4272 4273 4274]\n",
      "[4305 4306 4307 4308 4309]\n",
      "[4340 4341 4342 4343 4344]\n",
      "[4375 4376 4377 4378 4379]\n",
      "[4410 4411 4412 4413 4414]\n",
      "[4445 4446 4447 4448 4449]\n"
     ]
    }
   ],
   "source": [
    "for x in range(batches.shape[2]):\n",
    "    print(batches[0,0,x])\n"
   ]
  },
  {
   "cell_type": "markdown",
   "metadata": {},
   "source": [
    "Implement get_batches to create batches of input and targets using int_text. The batches should be a Numpy array with the shape (number of batches, 2, batch size, sequence length). Each batch contains two elements:"
   ]
  },
  {
   "cell_type": "code",
   "execution_count": null,
   "metadata": {
    "collapsed": true
   },
   "outputs": [],
   "source": []
  }
 ],
 "metadata": {
  "kernelspec": {
   "display_name": "Python 3",
   "language": "python",
   "name": "python3"
  },
  "language_info": {
   "codemirror_mode": {
    "name": "ipython",
    "version": 3
   },
   "file_extension": ".py",
   "mimetype": "text/x-python",
   "name": "python",
   "nbconvert_exporter": "python",
   "pygments_lexer": "ipython3",
   "version": "3.6.3"
  }
 },
 "nbformat": 4,
 "nbformat_minor": 2
}
